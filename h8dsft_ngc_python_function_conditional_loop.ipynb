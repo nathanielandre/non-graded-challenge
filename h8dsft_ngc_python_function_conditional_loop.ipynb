{
 "cells": [
  {
   "cell_type": "markdown",
   "metadata": {},
   "source": [
    "# TASK 1\n",
    "\n",
    "```\n",
    "Create a function that count the number of word in a sentence.\n",
    "Instruction:\n",
    "1.Create function called `number_of_word`.\n",
    "2.This function takes 1 input, `sentence`.\n",
    "3.Inside this function, you can utilize `.split()` method to split the sentence into list of word(s).\n",
    "4.Also, `len()` function to count the element inside a list.\n",
    "5.Return the number of word from the sentence.\n",
    "\n",
    "Example:\n",
    "-Input: number_of_word(sentence = ’Hello World!’)\n",
    "-Output: 2\n",
    "-Input: number_of_word(sentence = ’Once Upon a Time in a faraway land’)\n",
    "-Output: 84\n",
    "```"
   ]
  },
  {
   "cell_type": "code",
   "execution_count": null,
   "metadata": {},
   "outputs": [
    {
     "name": "stdout",
     "output_type": "stream",
     "text": [
      "Output = 8\n"
     ]
    }
   ],
   "source": [
    "#mendefinisikan fungsi yang diberi nama number_of_word dengan 1 argumen berupa kalimat yang ingin dihitung jumlah katanya\n",
    "def number_of_word(sentence):\n",
    "    #memisahkan text\n",
    "    txtsplit=sentence.split()\n",
    "    #menghitung jumlah text yang telah dipisahkan\n",
    "    number=len(txtsplit)\n",
    "    #mengembalikan nilai dari function sebagai nilai dari number\n",
    "    return number\n",
    "\n",
    "#meminta input dari keyboard\n",
    "sentence = input(\"sentence =\")\n",
    "#mencetak output dari function number_of_word\n",
    "print(\"Output =\", number_of_word(sentence))\n",
    "    "
   ]
  },
  {
   "cell_type": "markdown",
   "metadata": {},
   "source": [
    "# TASK 2\n",
    "\n",
    "```\n",
    "Create a function that will get list of number(s) from a certain range that multiples of given number.\n",
    "Instruction:\n",
    "1.Create function called `find_multiples`.\n",
    "2.This function takes 3 input: `start_range`, `end_range`, and `multiple`.\n",
    "3.From every number within the given range, check if that number is the mutliples of `multiple`.\n",
    "4.Return list of the possible multiple number(s).\n",
    "Example:\n",
    "-Input: find_multiple(start_range= 1, end_range= 20, multiple= 5)\n",
    "-Output: [5, 10, 15, 20]\n",
    "-Input: find_multiple(start_range= 1, end_range= 50, multiple= 10)\n",
    "-Output: [10, 20, 30, 40, 50]\n",
    "```"
   ]
  },
  {
   "cell_type": "code",
   "execution_count": null,
   "metadata": {},
   "outputs": [
    {
     "name": "stdout",
     "output_type": "stream",
     "text": [
      "possible result = [10, 20, 30, 40, 50]\n"
     ]
    }
   ],
   "source": [
    "#mendefinisikan fungsi yang diberi nama find_multiples yang memiliki 3 arguments yaitu nilai awal, nilai akhir, dan pengali\n",
    "def find_multiples(start_range, end_range, multiple):\n",
    "    #membuat list untuk nantinya diisi dengan nilai yang telah dimultiple\n",
    "    possibleres=[]\n",
    "    #variabel untuk menjaga agar hasil multiple tidak melebihi end_range\n",
    "    i=0\n",
    "    #looping selama nilai multiple tidak melebihi nilai end_range\n",
    "    while i < end_range :\n",
    "        #variabel result untuk menyimpan nilai multiplikasi\n",
    "        result=start_range*multiple\n",
    "        #mengubah nilai i menjadi nilai result agar nilai i pada looping selalu diperbaharui\n",
    "        i=result\n",
    "        #nilai start_range terus ditambah 1 untuk dikalikan dengan multiple\n",
    "        start_range+=1\n",
    "        #memasukkan nilai multiple ke list\n",
    "        possibleres.append(result)\n",
    "    #mengembalikan nilai function dengan list yang berisi nilai yang telah dimultiplikasi    \n",
    "    return possibleres\n",
    "\n",
    "#meminta input dari keyboard\n",
    "start_range=int(input(\"start range =\"))\n",
    "end_range=int(input(\"End range =\"))\n",
    "multiple=int(input(\"multiple =\"))\n",
    "#mencetak hasil dari function\n",
    "print(\"possible result =\",find_multiples(start_range,end_range,multiple))\n",
    "        \n",
    "    "
   ]
  },
  {
   "cell_type": "markdown",
   "metadata": {},
   "source": [
    "# TASK 3\n",
    "\n",
    "```\n",
    "Create a function that will convert student’s grade to GPA.\n",
    "Instruction:\n",
    "1.Create function called `Grade_Converter`.\n",
    "2.This function takes input: `convert_to` and n-paired of student(s) name with its respective score.\n",
    "3.Input argument for `convert_to` is either `letter_grade` or `gpa`.\n",
    "4.You can utilize **kwargs input argument to generate n-length paired of student(s) name with its respective score (Dictionary).\n",
    "5.This function will return dictionary of student’s name along with converted Letter Grade or GPA, depending on user input in `convert_to` parameter.\n",
    "\n",
    "Create a function that will convert student’s grade to GPA.\n",
    "Example:\n",
    "-Input: Grade_Converter(convert_to='gpa', Adam=62, Faiz=91)\n",
    "-Output: {'Adam': 2.5, 'Faiz': 4}\n",
    "-Input: Grade_Converter(convert_to='letter_grade', Albert=90, Dwi=82, Syahdan=58, Veronica=84)\n",
    "-Output: {'Albert': 'A', 'Dwi': 'B', 'Syahdan': 'D','Veronica': 'B'}\n",
    "```"
   ]
  },
  {
   "cell_type": "code",
   "execution_count": null,
   "metadata": {},
   "outputs": [
    {
     "name": "stdout",
     "output_type": "stream",
     "text": [
      "Nama dan nilai awal : {'Abc': 100, 'Bcd': 55, 'Cde': 75, 'Def': 65, 'Efg': 45, 'Fgh': 10}\n",
      "Nilai letter_grade :\n",
      "{'Abc': 'A', 'Bcd': 'D', 'Cde': 'B', 'Def': 'C', 'Efg': 'E', 'Fgh': 'F'}\n"
     ]
    }
   ],
   "source": [
    "#mendefinisikan fungsi yang diberi nama grade_converter dengan 2 arguments yaitu convert_to yang merupakan format dari pengonversian nilai yang ingin dilakukan dan sebuah keywords arguments yang berisi key=nama siswa dengan valuenya=nilai\n",
    "def grade_converter(convert_to, **student): \n",
    "    #print nama dan nilai awal\n",
    "    print(\"Nama dan nilai awal :\",student)\n",
    "    #print format convert yang ingin digunakan\n",
    "    print(f\"Nilai {convert_to} :\")\n",
    "    #condition untuk convert menjadi nilai gpa sesuai table\n",
    "    if convert_to==\"gpa\":\n",
    "        for nama, nilai in student.items():\n",
    "            #jika nilai lebih dari 85 maka dibuah menjadi 4\n",
    "            if nilai>=85:\n",
    "                student[nama]=4\n",
    "            #jika nilai 70-84 maka diubah menjadi 3\n",
    "            elif nilai>=70 and nilai <85:\n",
    "                student[nama]=3\n",
    "            elif nilai>=60 and nilai<70:\n",
    "                student[nama]=2.5\n",
    "            elif nilai>=50 and nilai<60:\n",
    "                student[nama]=2\n",
    "            elif nilai>=40 and nilai<50:\n",
    "                student[nama]=1.5\n",
    "            else:\n",
    "                student[nama]=1\n",
    "        print(\"hasil :\",student)\n",
    "    #condition untuk convert menjadi nilai letter_grade sesuai table\n",
    "    elif convert_to==\"letter_grade\":\n",
    "        for nama, nilai in student.items():\n",
    "            #jika nilai diatas 85 maka diubah menjadi A\n",
    "            if nilai>=85:\n",
    "                student[nama]=\"A\"\n",
    "            #jika nilai 70-84 maka diubah menjadi B\n",
    "            elif nilai>=70 and nilai <85:\n",
    "                student[nama]=\"B\"\n",
    "            elif nilai>=60 and nilai<70:\n",
    "                student[nama]=\"C\"\n",
    "            elif nilai>=50 and nilai<60:\n",
    "                student[nama]=\"D\"\n",
    "            elif nilai>=40 and nilai<50:\n",
    "                student[nama]=\"E\"\n",
    "            else:\n",
    "                student[nama]=\"F\"\n",
    "        print(student)\n",
    "    #apabila format yang dipilih selain gpa atau letter_grade maka diminta untuk diubah\n",
    "    else:\n",
    "        print(\"please change to gpa or letter_grade\")\n",
    "    \n",
    "#Test function\n",
    "\n",
    "# 1 mengubah nilai dalam format letter_grade\n",
    "grade_converter(\"letter_grade\",Abc=100,Bcd=55,Cde=75,Def=65,Efg=45,Fgh=10)\n",
    "\n",
    "# 2 mengubah nilai dalam format gpa\n",
    "#grade_converter(\"gpa\",Abc=100,Bcd=55,Cde=75,Def=65,Efg=45,Fgh=10)\n",
    "\n",
    "# 3 apabila dimasukkan format yang tidak sesuai\n",
    "#grade_converter(\"test\",Abc=100,Bcd=55,Cde=75,Def=65,Efg=45,Fgh=10)"
   ]
  },
  {
   "cell_type": "markdown",
   "metadata": {},
   "source": [
    "# TASK 4\n",
    "```\n",
    "create a function that will return the value of n-th fibonacci number.\n",
    "Instruction:\n",
    "1.The function will take 1 input parameter, n, represents the asked number from our fibonacci sequence index.\n",
    "2.The fibonacci sequence will start with the value of 0 and 1.\n",
    "3.This function will return the n-th value from fibonacci sequence.\n",
    "\n",
    "example:\n",
    "-Input: my_function(n=0)\n",
    "-Output: 0\n",
    "\n",
    "-Input: my_function(n=4)\n",
    "-Output: 3\n",
    "\n",
    "-Input: my_function(n=10)\n",
    "-Output: 55\n",
    "```"
   ]
  },
  {
   "cell_type": "code",
   "execution_count": null,
   "metadata": {},
   "outputs": [
    {
     "name": "stdout",
     "output_type": "stream",
     "text": [
      "Input: my_function(n=10)\n",
      "Output: 55\n"
     ]
    }
   ],
   "source": [
    "#mendefinisikan fungsi yang diberi nama my_function dengan 1 argument yaitu n-th untuk barisan fibonacci\n",
    "def my_function(n):\n",
    "    #iterasi untuk menjadi batas pengulangan barisan fibonacci\n",
    "    i=1\n",
    "    #start value 0\n",
    "    a=0\n",
    "    #start value 1\n",
    "    b=1\n",
    "    #apabila input merupakan start value 0\n",
    "    if n==0:\n",
    "        print(\"Output: 0\")\n",
    "    #apabila input merupakan start value 1\n",
    "    elif n==1:\n",
    "        print(\"Output: 1\")\n",
    "    #apabila input selain start value\n",
    "    else:\n",
    "        while i < n:\n",
    "            #barisan fibonacci merupakan barisan yang setiap sukunya merupakan penjumlahan dari dua suku sebelumnya\n",
    "            fibseq=a+b\n",
    "            #iterasi\n",
    "            i+=1\n",
    "            #nilai a dibubah menjadi nilai b yang merupakan nilai suku terakhir yang digunakan dalam operasi pertambahan sebelumnya\n",
    "            a=b\n",
    "            #nilai b diubah menjadi hasil pertambahan dua suku sebelumnya\n",
    "            b=fibseq\n",
    "        print(\"Output:\",fibseq)\n",
    "    \n",
    "#meminta input dari keyboard berupa n-th\n",
    "n=int(input(\"Input:\"))\n",
    "#menampilkan n-th yang diinput\n",
    "print(f\"Input: my_function(n={n})\")\n",
    "#menjalankan fungsi barisan fibonacci\n",
    "my_function(n)\n",
    "    "
   ]
  }
 ],
 "metadata": {
  "kernelspec": {
   "display_name": "base",
   "language": "python",
   "name": "python3"
  },
  "language_info": {
   "codemirror_mode": {
    "name": "ipython",
    "version": 3
   },
   "file_extension": ".py",
   "mimetype": "text/x-python",
   "name": "python",
   "nbconvert_exporter": "python",
   "pygments_lexer": "ipython3",
   "version": "3.9.19"
  }
 },
 "nbformat": 4,
 "nbformat_minor": 2
}
